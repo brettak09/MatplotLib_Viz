{
 "cells": [
  {
   "cell_type": "code",
   "execution_count": 33,
   "metadata": {},
   "outputs": [],
   "source": [
    "%matplotlib inline\n",
    "# Dependencies and Setup\n",
    "import matplotlib.pyplot as plt\n",
    "import pandas as pd\n",
    "import numpy as np\n",
    "\n",
    "# File to Load (Remember to change these)\n",
    "cities_data = pd.read_csv(\"data/city_data.csv\")\n",
    "rides_data = pd.read_csv(\"data/ride_data.csv\")\n",
    "\n",
    "\n"
   ]
  },
  {
   "cell_type": "code",
   "execution_count": 34,
   "metadata": {},
   "outputs": [
    {
     "data": {
      "text/html": [
       "<div>\n",
       "<style scoped>\n",
       "    .dataframe tbody tr th:only-of-type {\n",
       "        vertical-align: middle;\n",
       "    }\n",
       "\n",
       "    .dataframe tbody tr th {\n",
       "        vertical-align: top;\n",
       "    }\n",
       "\n",
       "    .dataframe thead th {\n",
       "        text-align: right;\n",
       "    }\n",
       "</style>\n",
       "<table border=\"1\" class=\"dataframe\">\n",
       "  <thead>\n",
       "    <tr style=\"text-align: right;\">\n",
       "      <th></th>\n",
       "      <th>city</th>\n",
       "      <th>driver_count</th>\n",
       "      <th>type</th>\n",
       "    </tr>\n",
       "  </thead>\n",
       "  <tbody>\n",
       "    <tr>\n",
       "      <th>0</th>\n",
       "      <td>Richardfort</td>\n",
       "      <td>38</td>\n",
       "      <td>Urban</td>\n",
       "    </tr>\n",
       "    <tr>\n",
       "      <th>1</th>\n",
       "      <td>Williamsstad</td>\n",
       "      <td>59</td>\n",
       "      <td>Urban</td>\n",
       "    </tr>\n",
       "    <tr>\n",
       "      <th>2</th>\n",
       "      <td>Port Angela</td>\n",
       "      <td>67</td>\n",
       "      <td>Urban</td>\n",
       "    </tr>\n",
       "    <tr>\n",
       "      <th>3</th>\n",
       "      <td>Rodneyfort</td>\n",
       "      <td>34</td>\n",
       "      <td>Urban</td>\n",
       "    </tr>\n",
       "    <tr>\n",
       "      <th>4</th>\n",
       "      <td>West Robert</td>\n",
       "      <td>39</td>\n",
       "      <td>Urban</td>\n",
       "    </tr>\n",
       "  </tbody>\n",
       "</table>\n",
       "</div>"
      ],
      "text/plain": [
       "           city  driver_count   type\n",
       "0   Richardfort            38  Urban\n",
       "1  Williamsstad            59  Urban\n",
       "2   Port Angela            67  Urban\n",
       "3    Rodneyfort            34  Urban\n",
       "4   West Robert            39  Urban"
      ]
     },
     "execution_count": 34,
     "metadata": {},
     "output_type": "execute_result"
    }
   ],
   "source": [
    "# Read the City \n",
    "cities_data.head()\n",
    "\n",
    "\n"
   ]
  },
  {
   "cell_type": "code",
   "execution_count": 35,
   "metadata": {},
   "outputs": [
    {
     "data": {
      "text/html": [
       "<div>\n",
       "<style scoped>\n",
       "    .dataframe tbody tr th:only-of-type {\n",
       "        vertical-align: middle;\n",
       "    }\n",
       "\n",
       "    .dataframe tbody tr th {\n",
       "        vertical-align: top;\n",
       "    }\n",
       "\n",
       "    .dataframe thead th {\n",
       "        text-align: right;\n",
       "    }\n",
       "</style>\n",
       "<table border=\"1\" class=\"dataframe\">\n",
       "  <thead>\n",
       "    <tr style=\"text-align: right;\">\n",
       "      <th></th>\n",
       "      <th>city</th>\n",
       "      <th>date</th>\n",
       "      <th>fare</th>\n",
       "      <th>ride_id</th>\n",
       "    </tr>\n",
       "  </thead>\n",
       "  <tbody>\n",
       "    <tr>\n",
       "      <th>0</th>\n",
       "      <td>Lake Jonathanshire</td>\n",
       "      <td>2018-01-14 10:14:22</td>\n",
       "      <td>13.83</td>\n",
       "      <td>5739410935873</td>\n",
       "    </tr>\n",
       "    <tr>\n",
       "      <th>1</th>\n",
       "      <td>South Michelleport</td>\n",
       "      <td>2018-03-04 18:24:09</td>\n",
       "      <td>30.24</td>\n",
       "      <td>2343912425577</td>\n",
       "    </tr>\n",
       "    <tr>\n",
       "      <th>2</th>\n",
       "      <td>Port Samanthamouth</td>\n",
       "      <td>2018-02-24 04:29:00</td>\n",
       "      <td>33.44</td>\n",
       "      <td>2005065760003</td>\n",
       "    </tr>\n",
       "    <tr>\n",
       "      <th>3</th>\n",
       "      <td>Rodneyfort</td>\n",
       "      <td>2018-02-10 23:22:03</td>\n",
       "      <td>23.44</td>\n",
       "      <td>5149245426178</td>\n",
       "    </tr>\n",
       "    <tr>\n",
       "      <th>4</th>\n",
       "      <td>South Jack</td>\n",
       "      <td>2018-03-06 04:28:35</td>\n",
       "      <td>34.58</td>\n",
       "      <td>3908451377344</td>\n",
       "    </tr>\n",
       "  </tbody>\n",
       "</table>\n",
       "</div>"
      ],
      "text/plain": [
       "                 city                 date   fare        ride_id\n",
       "0  Lake Jonathanshire  2018-01-14 10:14:22  13.83  5739410935873\n",
       "1  South Michelleport  2018-03-04 18:24:09  30.24  2343912425577\n",
       "2  Port Samanthamouth  2018-02-24 04:29:00  33.44  2005065760003\n",
       "3          Rodneyfort  2018-02-10 23:22:03  23.44  5149245426178\n",
       "4          South Jack  2018-03-06 04:28:35  34.58  3908451377344"
      ]
     },
     "execution_count": 35,
     "metadata": {},
     "output_type": "execute_result"
    }
   ],
   "source": [
    "# read and Ride Data\n",
    "rides_data.head()"
   ]
  },
  {
   "cell_type": "code",
   "execution_count": 36,
   "metadata": {
    "scrolled": true
   },
   "outputs": [
    {
     "data": {
      "text/html": [
       "<div>\n",
       "<style scoped>\n",
       "    .dataframe tbody tr th:only-of-type {\n",
       "        vertical-align: middle;\n",
       "    }\n",
       "\n",
       "    .dataframe tbody tr th {\n",
       "        vertical-align: top;\n",
       "    }\n",
       "\n",
       "    .dataframe thead th {\n",
       "        text-align: right;\n",
       "    }\n",
       "</style>\n",
       "<table border=\"1\" class=\"dataframe\">\n",
       "  <thead>\n",
       "    <tr style=\"text-align: right;\">\n",
       "      <th></th>\n",
       "      <th>city</th>\n",
       "      <th>driver_count</th>\n",
       "      <th>type</th>\n",
       "      <th>date</th>\n",
       "      <th>fare</th>\n",
       "      <th>ride_id</th>\n",
       "    </tr>\n",
       "  </thead>\n",
       "  <tbody>\n",
       "    <tr>\n",
       "      <th>0</th>\n",
       "      <td>Richardfort</td>\n",
       "      <td>38</td>\n",
       "      <td>Urban</td>\n",
       "      <td>2018-02-24 08:40:38</td>\n",
       "      <td>13.93</td>\n",
       "      <td>5628545007794</td>\n",
       "    </tr>\n",
       "    <tr>\n",
       "      <th>1</th>\n",
       "      <td>Richardfort</td>\n",
       "      <td>38</td>\n",
       "      <td>Urban</td>\n",
       "      <td>2018-02-13 12:46:07</td>\n",
       "      <td>14.00</td>\n",
       "      <td>910050116494</td>\n",
       "    </tr>\n",
       "    <tr>\n",
       "      <th>2</th>\n",
       "      <td>Richardfort</td>\n",
       "      <td>38</td>\n",
       "      <td>Urban</td>\n",
       "      <td>2018-02-16 13:52:19</td>\n",
       "      <td>17.92</td>\n",
       "      <td>820639054416</td>\n",
       "    </tr>\n",
       "    <tr>\n",
       "      <th>3</th>\n",
       "      <td>Richardfort</td>\n",
       "      <td>38</td>\n",
       "      <td>Urban</td>\n",
       "      <td>2018-02-01 20:18:28</td>\n",
       "      <td>10.26</td>\n",
       "      <td>9554935945413</td>\n",
       "    </tr>\n",
       "    <tr>\n",
       "      <th>4</th>\n",
       "      <td>Richardfort</td>\n",
       "      <td>38</td>\n",
       "      <td>Urban</td>\n",
       "      <td>2018-04-17 02:26:37</td>\n",
       "      <td>23.00</td>\n",
       "      <td>720020655850</td>\n",
       "    </tr>\n",
       "  </tbody>\n",
       "</table>\n",
       "</div>"
      ],
      "text/plain": [
       "          city  driver_count   type                 date   fare        ride_id\n",
       "0  Richardfort            38  Urban  2018-02-24 08:40:38  13.93  5628545007794\n",
       "1  Richardfort            38  Urban  2018-02-13 12:46:07  14.00   910050116494\n",
       "2  Richardfort            38  Urban  2018-02-16 13:52:19  17.92   820639054416\n",
       "3  Richardfort            38  Urban  2018-02-01 20:18:28  10.26  9554935945413\n",
       "4  Richardfort            38  Urban  2018-04-17 02:26:37  23.00   720020655850"
      ]
     },
     "execution_count": 36,
     "metadata": {},
     "output_type": "execute_result"
    }
   ],
   "source": [
    "# Combine the data into a single dataset &\n",
    "# Display the data table for preview\n",
    "cities_and_rides = pd.merge(cities_data, rides_data, on='city')\n",
    "cities_and_rides.head()\n"
   ]
  },
  {
   "cell_type": "code",
   "execution_count": 37,
   "metadata": {},
   "outputs": [],
   "source": [
    "# City Type (Urban, Suburban, Rural)\n",
    "city_group=cities_and_rides.groupby([\"city\",\"type\"])\n",
    "# Average Fare ($) Per City\n",
    "average_fare=city_group[\"fare\"].mean().reset_index()\n",
    "average_fare_by_type=average_fare.set_index('type')\n",
    "average_fare_urban=average_fare_by_type.loc[\"Urban\"]\n",
    "average_fare_rural=average_fare_by_type.loc[\"Rural\"]\n",
    "average_fare_suburban=average_fare_by_type.loc[\"Suburban\"]\n",
    "# Total Number of Rides Per City\n",
    "count_rides=city_group['ride_id'].count().reset_index()\n",
    "count_rides_by_type=count_rides.set_index('type')\n",
    "count_rides_urban=count_rides_by_type.loc[\"Urban\"]\n",
    "count_rides_rural=count_rides_by_type.loc[\"Rural\"]\n",
    "count_rides_suburban=count_rides_by_type.loc[\"Suburban\"]\n",
    "# Total Number of Drivers Per City\n",
    "drivers=cities_data[[\"city\",\"driver_count\",\"type\"]]\n",
    "drivers_by_type=drivers.set_index('type')\n",
    "drivers_urban=drivers_by_type.loc[\"Urban\"]\n",
    "drivers_rural=drivers_by_type.loc[\"Rural\"]\n",
    "drivers_suburban=drivers_by_type.loc[\"Suburban\"]\n",
    "\n",
    "\n",
    "\n"
   ]
  },
  {
   "cell_type": "markdown",
   "metadata": {},
   "source": [
    "## Bubble Plot of Ride Sharing Data"
   ]
  },
  {
   "cell_type": "code",
   "execution_count": 51,
   "metadata": {},
   "outputs": [
    {
     "data": {
      "image/png": "[encoded data removed]",
      "text/plain": [
       "<Figure size 432x288 with 1 Axes>"
      ]
     },
     "metadata": {
      "needs_background": "light"
     },
     "output_type": "display_data"
    }
   ],
   "source": [
    "# Obtain the x and y coordinates for each of the three city types\n",
    "# Build the scatter plots for each city types\n",
    "\n",
    "# Incorporate the other graph properties\n",
    "\n",
    "# Create a legend\n",
    "\n",
    "# Incorporate a text label regarding circle size\n",
    "\n",
    "# Save Figure\n",
    "#mulitiply size function by a number\n",
    "\n",
    "x_axis_urban= count_rides_urban['ride_id']\n",
    "y_axis_urban= average_fare_urban['fare']\n",
    "plt.scatter(x_axis_urban,y_axis_urban, color=\"lightskyblue\",s=drivers_urban['driver_count']*8,alpha=1.0,\n",
    "           label=\"Urban\")\n",
    "\n",
    "#plot data for Rural cities\n",
    "x_axis_rural= count_rides_rural['ride_id']\n",
    "y_axis_rural= average_fare_rural['fare']\n",
    "plt.scatter(x_axis_rural,y_axis_rural,color=\"gold\", s=drivers_rural['driver_count']*8,alpha=1.0,\n",
    "            label=\"Rural\")\n",
    "\n",
    "#plot data for Suburban cities\n",
    "x_axis_suburban= count_rides_suburban['ride_id']\n",
    "y_axis_suburban= average_fare_suburban['fare']\n",
    "plt.scatter(x_axis_suburban,y_axis_suburban,color=\"lightcoral\",s=drivers_suburban['driver_count']*8,\n",
    "            alpha=1.0, label=\"Suburban\")\n",
    "plt.legend(loc=\"best\")\n",
    "plt.xlabel(\"Total number of Rides(Per City)\")\n",
    "plt.ylabel(\"Average Fare($)\")\n",
    "plt.title(\"Pyber Ride Sharing Data\")\n",
    "plt.show()"
   ]
  },
  {
   "cell_type": "markdown",
   "metadata": {},
   "source": [
    "## Total Fares by City Type"
   ]
  },
  {
   "cell_type": "code",
   "execution_count": 40,
   "metadata": {},
   "outputs": [
    {
     "name": "stdout",
     "output_type": "stream",
     "text": [
      "6.811492974983412\n",
      "62.72463496228436\n",
      "30.46387206273221\n"
     ]
    }
   ],
   "source": [
    "# Calculate Type Percents\n",
    "\n",
    "\n",
    "#total fares from data\n",
    "total_fares=cities_and_rides[\"fare\"].sum()\n",
    "#percentage of total fares by city type\n",
    "city_type=cities_and_rides.groupby('type')\n",
    "total_fares_by_type=city_type.sum().reset_index()\n",
    "\n",
    "total_fares_by_type\n",
    "type_index=total_fares_by_type.set_index('type')\n",
    "rural_fare=type_index.loc[[\"Rural\"],[\"fare\"]]\n",
    "percentage_rural_fare=((rural_fare[\"fare\"])/(total_fares)*100).values[0]\n",
    "print(percentage_rural_fare)\n",
    "urban_fare=type_index.loc[[\"Urban\"],[\"fare\"]]\n",
    "percentage_urban_fare=((urban_fare[\"fare\"])/(total_fares)*100).values[0]\n",
    "print(percentage_urban_fare)\n",
    "suburban_fare=type_index.loc[[\"Suburban\"],[\"fare\"]]\n",
    "percentage_suburban_fare=((suburban_fare[\"fare\"])/(total_fares)*100).values[0]\n",
    "print(percentage_suburban_fare)"
   ]
  },
  {
   "cell_type": "code",
   "execution_count": 52,
   "metadata": {},
   "outputs": [],
   "source": [
    "# Build Pie Chart\n",
    "#pie charts\n",
    "labels= [\"Rural\", \"Urban\", \"Suburban\"]\n",
    "sizes = [percentage_rural_fare, percentage_urban_fare, percentage_suburban_fare]\n",
    "colors= [\"gold\", \"lightskyblue\", \"lightcoral\"]\n",
    "explode= (0,0.1,0)\n",
    "#sizes[0].values[0]"
   ]
  },
  {
   "cell_type": "code",
   "execution_count": 53,
   "metadata": {},
   "outputs": [
    {
     "data": {
      "image/png": "[encoded data removed]",
      "text/plain": [
       "<Figure size 432x288 with 1 Axes>"
      ]
     },
     "metadata": {},
     "output_type": "display_data"
    }
   ],
   "source": [
    "plt.title(\"Percentage of Total Fares by City Type\")\n",
    "plt.pie(sizes, explode=explode, labels=labels, colors=colors,\n",
    "        autopct='%1.1f%%', shadow=True, startangle=240)        \n",
    "plt.axes().set_aspect(aspect=0.65)\n",
    "plt.show()"
   ]
  },
  {
   "cell_type": "markdown",
   "metadata": {},
   "source": [
    "## Total Rides by City Type"
   ]
  },
  {
   "cell_type": "code",
   "execution_count": 41,
   "metadata": {},
   "outputs": [
    {
     "name": "stdout",
     "output_type": "stream",
     "text": [
      "5.263157894736842\n",
      "68.42105263157895\n",
      "26.31578947368421\n"
     ]
    }
   ],
   "source": [
    "#total rides from data\n",
    "total_rides=cities_and_rides[\"ride_id\"].count()\n",
    "#percentage of total rides by city type\n",
    "total_rides_by_type=city_type.count().reset_index()\n",
    "type_index=total_rides_by_type.set_index('type')\n",
    "rural_rides=type_index.loc[[\"Rural\"],[\"ride_id\"]]\n",
    "percentage_rural_rides=((rural_rides[\"ride_id\"])/(total_rides)*100).values[0]\n",
    "print(percentage_rural_rides)\n",
    "urban_rides=type_index.loc[[\"Urban\"],[\"ride_id\"]]\n",
    "percentage_urban_rides=((urban_rides[\"ride_id\"])/(total_rides)*100).values[0]\n",
    "print(percentage_urban_rides)\n",
    "suburban_rides=type_index.loc[[\"Suburban\"],[\"ride_id\"]]\n",
    "percentage_suburban_rides=((suburban_rides[\"ride_id\"])/(total_rides)*100).values[0]\n",
    "print(percentage_suburban_rides)"
   ]
  },
  {
   "cell_type": "code",
   "execution_count": 54,
   "metadata": {},
   "outputs": [],
   "source": [
    "# Calculate Ride Percents\n",
    "\n",
    "# Build Pie Chart\n",
    "\n",
    "# Save Figure\n",
    "# Build Pie Chart\n",
    "#pie charts\n",
    "labels= [\"Rural\", \"Urban\", \"Suburban\"]\n",
    "sizes = [percentage_rural_rides, percentage_urban_rides, percentage_suburban_rides]\n",
    "colors= [\"gold\", \"lightskyblue\", \"lightcoral\"]\n",
    "explode= (0,0.1,0)\n",
    "#sizes[0].values[0]"
   ]
  },
  {
   "cell_type": "code",
   "execution_count": 55,
   "metadata": {},
   "outputs": [
    {
     "data": {
      "image/png": "[encoded data removed]",
      "text/plain": [
       "<Figure size 432x288 with 1 Axes>"
      ]
     },
     "metadata": {},
     "output_type": "display_data"
    }
   ],
   "source": [
    "plt.title(\"Percentage of Total Rides by City Type\")\n",
    "plt.pie(sizes, explode=explode, labels=labels, colors=colors,\n",
    "        autopct='%1.1f%%', shadow=True, startangle=250)        \n",
    "plt.axes().set_aspect(aspect=0.65)\n",
    "plt.show()"
   ]
  },
  {
   "cell_type": "markdown",
   "metadata": {},
   "source": [
    "## Total Drivers by City Type"
   ]
  },
  {
   "cell_type": "code",
   "execution_count": 42,
   "metadata": {},
   "outputs": [
    {
     "name": "stdout",
     "output_type": "stream",
     "text": [
      "2.6236125126135215\n",
      "80.89471913891691\n",
      "16.481668348469558\n"
     ]
    }
   ],
   "source": [
    "#total drivers from data\n",
    "total_drivers=cities_data[\"driver_count\"].sum()\n",
    "#percentage of total drivers by city type\n",
    "city_type=cities_data.groupby('type')\n",
    "total_drivers_by_type=city_type.sum().reset_index()\n",
    "type_index=total_drivers_by_type.set_index('type')\n",
    "rural_drivers=type_index.loc[[\"Rural\"],[\"driver_count\"]]\n",
    "percentage_rural_drivers=((rural_drivers[\"driver_count\"])/(total_drivers)*100).values[0]\n",
    "print(percentage_rural_drivers)\n",
    "urban_drivers=type_index.loc[[\"Urban\"],[\"driver_count\"]]\n",
    "percentage_urban_drivers=((urban_drivers[\"driver_count\"])/(total_drivers)*100).values[0]\n",
    "print(percentage_urban_drivers)\n",
    "suburban_drivers=type_index.loc[[\"Suburban\"],[\"driver_count\"]]\n",
    "percentage_suburban_drivers=((suburban_drivers[\"driver_count\"])/(total_drivers)*100).values[0]\n",
    "print(percentage_suburban_drivers)"
   ]
  },
  {
   "cell_type": "code",
   "execution_count": null,
   "metadata": {},
   "outputs": [],
   "source": [
    "# Calculate Driver Percents\n",
    "\n",
    "# Build Pie Charts\n",
    "\n",
    "# Save Figure\n",
    "labels= [\"Rural\", \"Urban\", \"Suburban\"]\n",
    "sizes = [percentage_rural_drivers, percentage_urban_drivers, percentage_suburban_drivers]\n",
    "colors= [\"gold\", \"lightskyblue\", \"lightcoral\"]\n",
    "explode= (0,0.1,0)\n",
    "#sizes[0].values[0]"
   ]
  },
  {
   "cell_type": "code",
   "execution_count": 56,
   "metadata": {},
   "outputs": [
    {
     "data": {
      "image/png": "[encoded data removed]",
      "text/plain": [
       "<Figure size 432x288 with 1 Axes>"
      ]
     },
     "metadata": {},
     "output_type": "display_data"
    }
   ],
   "source": [
    "plt.title(\"Percentage of Total drivers by City Type\")\n",
    "plt.pie(sizes, explode=explode, labels=labels, colors=colors,\n",
    "        autopct='%1.1f%%', shadow=True, startangle=250)        \n",
    "plt.axes().set_aspect(aspect=0.65)\n",
    "plt.show()"
   ]
  }
 ],
 "metadata": {
  "anaconda-cloud": {},
  "celltoolbar": "Raw Cell Format",
  "kernelspec": {
   "display_name": "Python 3",
   "language": "python",
   "name": "python3"
  },
  "language_info": {
   "codemirror_mode": {
    "name": "ipython",
    "version": 3
   },
   "file_extension": ".py",
   "mimetype": "text/x-python",
   "name": "python",
   "nbconvert_exporter": "python",
   "pygments_lexer": "ipython3",
   "version": "3.7.3"
  }
 },
 "nbformat": 4,
 "nbformat_minor": 2
}
